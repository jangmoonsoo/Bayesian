{
 "cells": [
  {
   "cell_type": "code",
   "execution_count": 2,
   "metadata": {},
   "outputs": [],
   "source": [
    "library(dplyr)"
   ]
  },
  {
   "cell_type": "code",
   "execution_count": 8,
   "metadata": {},
   "outputs": [
    {
     "data": {
      "text/html": [
       "<table>\n",
       "<thead><tr><th scope=col>Season</th><th scope=col>Games</th><th scope=col>Success</th><th scope=col>Attempts</th><th scope=col>Fails</th><th scope=col>Percents</th></tr></thead>\n",
       "<tbody>\n",
       "\t<tr><td>1999 </td><td> 66  </td><td> 554 </td><td> 1183</td><td> 629 </td><td>46.8 </td></tr>\n",
       "\t<tr><td>2000 </td><td> 68  </td><td> 701 </td><td> 1510</td><td> 809 </td><td>46.4 </td></tr>\n",
       "\t<tr><td>2001 </td><td> 80  </td><td> 749 </td><td> 1597</td><td> 848 </td><td>46.9 </td></tr>\n",
       "\t<tr><td>2002 </td><td> 82  </td><td> 868 </td><td> 1924</td><td>1056 </td><td>45.1 </td></tr>\n",
       "\t<tr><td>2003 </td><td> 65  </td><td> 516 </td><td> 1178</td><td> 662 </td><td>43.8 </td></tr>\n",
       "\t<tr><td>2004 </td><td> 66  </td><td> 573 </td><td> 1324</td><td> 751 </td><td>43.3 </td></tr>\n",
       "\t<tr><td>2005 </td><td> 80  </td><td> 978 </td><td> 2173</td><td>1195 </td><td>45.0 </td></tr>\n",
       "\t<tr><td>2006 </td><td> 42  </td><td> 399 </td><td>  845</td><td> 446 </td><td>47.2 </td></tr>\n",
       "\t<tr><td>Total</td><td>549  </td><td>5338 </td><td>11734</td><td>6396 </td><td>45.6 </td></tr>\n",
       "</tbody>\n",
       "</table>\n"
      ],
      "text/latex": [
       "\\begin{tabular}{r|llllll}\n",
       " Season & Games & Success & Attempts & Fails & Percents\\\\\n",
       "\\hline\n",
       "\t 1999  &  66   &  554  &  1183 &  629  & 46.8 \\\\\n",
       "\t 2000  &  68   &  701  &  1510 &  809  & 46.4 \\\\\n",
       "\t 2001  &  80   &  749  &  1597 &  848  & 46.9 \\\\\n",
       "\t 2002  &  82   &  868  &  1924 & 1056  & 45.1 \\\\\n",
       "\t 2003  &  65   &  516  &  1178 &  662  & 43.8 \\\\\n",
       "\t 2004  &  66   &  573  &  1324 &  751  & 43.3 \\\\\n",
       "\t 2005  &  80   &  978  &  2173 & 1195  & 45.0 \\\\\n",
       "\t 2006  &  42   &  399  &   845 &  446  & 47.2 \\\\\n",
       "\t Total & 549   & 5338  & 11734 & 6396  & 45.6 \\\\\n",
       "\\end{tabular}\n"
      ],
      "text/markdown": [
       "\n",
       "| Season | Games | Success | Attempts | Fails | Percents |\n",
       "|---|---|---|---|---|---|\n",
       "| 1999  |  66   |  554  |  1183 |  629  | 46.8  |\n",
       "| 2000  |  68   |  701  |  1510 |  809  | 46.4  |\n",
       "| 2001  |  80   |  749  |  1597 |  848  | 46.9  |\n",
       "| 2002  |  82   |  868  |  1924 | 1056  | 45.1  |\n",
       "| 2003  |  65   |  516  |  1178 |  662  | 43.8  |\n",
       "| 2004  |  66   |  573  |  1324 |  751  | 43.3  |\n",
       "| 2005  |  80   |  978  |  2173 | 1195  | 45.0  |\n",
       "| 2006  |  42   |  399  |   845 |  446  | 47.2  |\n",
       "| Total | 549   | 5338  | 11734 | 6396  | 45.6  |\n",
       "\n"
      ],
      "text/plain": [
       "  Season Games Success Attempts Fails Percents\n",
       "1 1999    66    554     1183     629  46.8    \n",
       "2 2000    68    701     1510     809  46.4    \n",
       "3 2001    80    749     1597     848  46.9    \n",
       "4 2002    82    868     1924    1056  45.1    \n",
       "5 2003    65    516     1178     662  43.8    \n",
       "6 2004    66    573     1324     751  43.3    \n",
       "7 2005    80    978     2173    1195  45.0    \n",
       "8 2006    42    399      845     446  47.2    \n",
       "9 Total  549   5338    11734    6396  45.6    "
      ]
     },
     "metadata": {},
     "output_type": "display_data"
    }
   ],
   "source": [
    "season <- seq(1999,2006)\n",
    "games <- c(66,68,80,82,65,66,80,42)\n",
    "success <- c(554,701,749,868,516,573,978,399)\n",
    "attempts <- c(1183,1510,1597,1924,1178,1324,2173,845)\n",
    "percents <- c(46.8,46.4,46.9,45.1,43.8,43.3,45,47.2)\n",
    "fails <- attempts-success\n",
    "\n",
    "data <- data.frame(Season=season,\n",
    "                   Games=games,\n",
    "                   Success=success,\n",
    "                   Attempts=attempts,\n",
    "                   Fails=fails,\n",
    "                   Percents=percents)\n",
    "data <- rbind(data,c(apply(data[,1:5],2,sum),round(mean(data[,6]),1)))\n",
    "data[9,1] <- 'Total'\n",
    "data\n"
   ]
  },
  {
   "cell_type": "markdown",
   "metadata": {},
   "source": [
    "# 1.Model\n",
    "## Model : Logistic Regression  \n",
    "슛의 성공 또는 실패 데이터이기 때문에 이항자료에 적합한 로지스틱 회귀모형을 사용할 것이다.  \n",
    "따라서 로그오즈비($\\theta$)에 대한 Inference를 하기로 한다.  \n",
    "## Prior Distribution\n",
    "이항분포와 Conjugate Prior인 베타분포를 Prior로 사용하도록 하자.  "
   ]
  },
  {
   "cell_type": "code",
   "execution_count": 9,
   "metadata": {},
   "outputs": [],
   "source": [
    "cond_exp <- function(a,b) {\n",
    "  a/(a+b)\n",
    "}\n",
    "\n",
    "cond_var <- function(a,b) {\n",
    "  a*b/((a+b+1)*(a+b)^2)\n",
    "}"
   ]
  },
  {
   "cell_type": "markdown",
   "metadata": {},
   "source": [
    "## 1) Non-informative Prior\n",
    "무정보 사전분포를 사용하기 위해 $\\theta$~Beta(0.01,0.01)을 prior로 사용하자."
   ]
  },
  {
   "cell_type": "code",
   "execution_count": 10,
   "metadata": {},
   "outputs": [],
   "source": [
    "a1=0.01;b1=0.01 ##prior setting\n",
    "\n",
    "M1 <- numeric(1)\n",
    "V1 <- numeric(1)\n",
    "for (i in 1:9) {\n",
    "  M1[i] = cond_exp(data$Success[i]+a1, data$Fails[i]+b1)\n",
    "  V1[i] = cond_var(data$Success[i]+a1, data$Fails[i]+b1)\n",
    "}"
   ]
  },
  {
   "cell_type": "markdown",
   "metadata": {},
   "source": [
    "data를 사용하여 각 년도별로 posterior mean과 posterior standard deviation을 구하는 코드로  \n",
    "M벡터에는 각 년도별로 사후평균, V벡터에는 사후 표준편차가 구해져 있다."
   ]
  },
  {
   "cell_type": "code",
   "execution_count": 11,
   "metadata": {},
   "outputs": [
    {
     "data": {
      "text/html": [
       "<table>\n",
       "<thead><tr><th scope=col>Post_mean</th><th scope=col>Post_var</th></tr></thead>\n",
       "<tbody>\n",
       "\t<tr><td>46.8</td><td>1.5 </td></tr>\n",
       "\t<tr><td>46.4</td><td>1.3 </td></tr>\n",
       "\t<tr><td>46.9</td><td>1.2 </td></tr>\n",
       "\t<tr><td>45.1</td><td>1.1 </td></tr>\n",
       "\t<tr><td>43.8</td><td>1.4 </td></tr>\n",
       "\t<tr><td>43.3</td><td>1.4 </td></tr>\n",
       "\t<tr><td>45.0</td><td>1.1 </td></tr>\n",
       "\t<tr><td>47.2</td><td>1.7 </td></tr>\n",
       "\t<tr><td>45.5</td><td>0.5 </td></tr>\n",
       "</tbody>\n",
       "</table>\n"
      ],
      "text/latex": [
       "\\begin{tabular}{r|ll}\n",
       " Post\\_mean & Post\\_var\\\\\n",
       "\\hline\n",
       "\t 46.8 & 1.5 \\\\\n",
       "\t 46.4 & 1.3 \\\\\n",
       "\t 46.9 & 1.2 \\\\\n",
       "\t 45.1 & 1.1 \\\\\n",
       "\t 43.8 & 1.4 \\\\\n",
       "\t 43.3 & 1.4 \\\\\n",
       "\t 45.0 & 1.1 \\\\\n",
       "\t 47.2 & 1.7 \\\\\n",
       "\t 45.5 & 0.5 \\\\\n",
       "\\end{tabular}\n"
      ],
      "text/markdown": [
       "\n",
       "| Post_mean | Post_var |\n",
       "|---|---|\n",
       "| 46.8 | 1.5  |\n",
       "| 46.4 | 1.3  |\n",
       "| 46.9 | 1.2  |\n",
       "| 45.1 | 1.1  |\n",
       "| 43.8 | 1.4  |\n",
       "| 43.3 | 1.4  |\n",
       "| 45.0 | 1.1  |\n",
       "| 47.2 | 1.7  |\n",
       "| 45.5 | 0.5  |\n",
       "\n"
      ],
      "text/plain": [
       "  Post_mean Post_var\n",
       "1 46.8      1.5     \n",
       "2 46.4      1.3     \n",
       "3 46.9      1.2     \n",
       "4 45.1      1.1     \n",
       "5 43.8      1.4     \n",
       "6 43.3      1.4     \n",
       "7 45.0      1.1     \n",
       "8 47.2      1.7     \n",
       "9 45.5      0.5     "
      ]
     },
     "metadata": {},
     "output_type": "display_data"
    }
   ],
   "source": [
    "res1 <- data.frame(Post_mean=round(M1*100,1),\n",
    "                   Post_var=round(sqrt(V1)*100,1))\n",
    "res1"
   ]
  },
  {
   "cell_type": "markdown",
   "metadata": {},
   "source": [
    "## 2) Improper Prior\n",
    "$\\theta$~Beta(0,0)가정을 통해 improper prior일 경우에 대해 알아보자"
   ]
  },
  {
   "cell_type": "code",
   "execution_count": 12,
   "metadata": {},
   "outputs": [
    {
     "data": {
      "text/html": [
       "<table>\n",
       "<thead><tr><th scope=col>Post_mean</th><th scope=col>Post_var</th></tr></thead>\n",
       "<tbody>\n",
       "\t<tr><td>46.8</td><td>1.5 </td></tr>\n",
       "\t<tr><td>46.4</td><td>1.3 </td></tr>\n",
       "\t<tr><td>46.9</td><td>1.2 </td></tr>\n",
       "\t<tr><td>45.1</td><td>1.1 </td></tr>\n",
       "\t<tr><td>43.8</td><td>1.4 </td></tr>\n",
       "\t<tr><td>43.3</td><td>1.4 </td></tr>\n",
       "\t<tr><td>45.0</td><td>1.1 </td></tr>\n",
       "\t<tr><td>47.2</td><td>1.7 </td></tr>\n",
       "\t<tr><td>45.5</td><td>0.5 </td></tr>\n",
       "</tbody>\n",
       "</table>\n"
      ],
      "text/latex": [
       "\\begin{tabular}{r|ll}\n",
       " Post\\_mean & Post\\_var\\\\\n",
       "\\hline\n",
       "\t 46.8 & 1.5 \\\\\n",
       "\t 46.4 & 1.3 \\\\\n",
       "\t 46.9 & 1.2 \\\\\n",
       "\t 45.1 & 1.1 \\\\\n",
       "\t 43.8 & 1.4 \\\\\n",
       "\t 43.3 & 1.4 \\\\\n",
       "\t 45.0 & 1.1 \\\\\n",
       "\t 47.2 & 1.7 \\\\\n",
       "\t 45.5 & 0.5 \\\\\n",
       "\\end{tabular}\n"
      ],
      "text/markdown": [
       "\n",
       "| Post_mean | Post_var |\n",
       "|---|---|\n",
       "| 46.8 | 1.5  |\n",
       "| 46.4 | 1.3  |\n",
       "| 46.9 | 1.2  |\n",
       "| 45.1 | 1.1  |\n",
       "| 43.8 | 1.4  |\n",
       "| 43.3 | 1.4  |\n",
       "| 45.0 | 1.1  |\n",
       "| 47.2 | 1.7  |\n",
       "| 45.5 | 0.5  |\n",
       "\n"
      ],
      "text/plain": [
       "  Post_mean Post_var\n",
       "1 46.8      1.5     \n",
       "2 46.4      1.3     \n",
       "3 46.9      1.2     \n",
       "4 45.1      1.1     \n",
       "5 43.8      1.4     \n",
       "6 43.3      1.4     \n",
       "7 45.0      1.1     \n",
       "8 47.2      1.7     \n",
       "9 45.5      0.5     "
      ]
     },
     "metadata": {},
     "output_type": "display_data"
    }
   ],
   "source": [
    "a2=0;b2=0\n",
    "M2=numeric(1);V2=numeric(1)\n",
    "for(i in 1:9) {\n",
    "  M2[i]=cond_exp(data$Success[i]+a2, data$Fails[i]+b2)\n",
    "  V2[i]=cond_var(data$Success[i]+a2, data$Fails[i]+b2)\n",
    "}\n",
    "\n",
    "res2 <- data.frame(Post_mean=round(M2*100,1),\n",
    "                   Post_var=round(sqrt(V2)*100,1))\n",
    "res2"
   ]
  },
  {
   "cell_type": "markdown",
   "metadata": {},
   "source": [
    "Beta(0.01,0.01)과 Beta(0,0)을 사용한 결과 차이가 없음을 알 수있다.  \n",
    "간단하게 해석하면 사전분포로 Beta(0.01,0.01)을 사용한다는 것은 필드골의 성공 횟수에 a=0.01만큼 더하고, 실패 횟수에 b=0.01만큼 더해 보정한 다음 계산을 하는 것이기 때문에 성공,실패 횟수에 각각 0씩 보정하는것과 큰 차이가 없기 때문에 두 결과가 동일하게 나온다."
   ]
  },
  {
   "cell_type": "code",
   "execution_count": 18,
   "metadata": {},
   "outputs": [],
   "source": [
    "##Post_mean & Post_varinance function\n",
    "post <- function(a,b) {\n",
    "  M=numeric(1);V=numeric(1)\n",
    "  for(i in 1:9) {\n",
    "    M[i]=cond_exp(data$Success[i]+a, data$Fails[i]+b)\n",
    "    V[i]=cond_var(data$Success[i]+a, data$Fails[i]+b)\n",
    "  }\n",
    "  R=data.frame(Post_mean=round(M*100,1),\n",
    "               Post_var=round(sqrt(V)*100,1))\n",
    "  return(R)\n",
    "}"
   ]
  },
  {
   "cell_type": "markdown",
   "metadata": {},
   "source": [
    "사전분포 Beta(a,b)를 사용했을 때의 사후분포의 평균, 표준편차를 구하는 함수를 만들었다.  \n",
    "사전분포를 어떻게 주느냐에 따라 결과가 바뀌기 때문에 함수의 파라미터는 사전분포의 파라미터인 a,b로 설정"
   ]
  },
  {
   "cell_type": "markdown",
   "metadata": {},
   "source": [
    "## 3) Improper Prior Beta(0,0) & Bayesian Update\n",
    "2)에서 사용한 사전분포와 베이지안 접근을 통해 과거 데이터를 사용한 결과를 확인해 보자."
   ]
  },
  {
   "cell_type": "code",
   "execution_count": 16,
   "metadata": {},
   "outputs": [
    {
     "data": {
      "text/html": [
       "<table>\n",
       "<thead><tr><th scope=col>Season</th><th scope=col>Games</th><th scope=col>Success</th><th scope=col>Attempts</th><th scope=col>Fails</th><th scope=col>Percents</th></tr></thead>\n",
       "<tbody>\n",
       "\t<tr><td>1999     </td><td>  66     </td><td>  554    </td><td> 1183    </td><td>  629    </td><td>0.4683009</td></tr>\n",
       "\t<tr><td>2000     </td><td> 134     </td><td> 1255    </td><td> 2693    </td><td> 1438    </td><td>0.4660230</td></tr>\n",
       "\t<tr><td>2001     </td><td> 214     </td><td> 2004    </td><td> 4290    </td><td> 2286    </td><td>0.4671329</td></tr>\n",
       "\t<tr><td>2002     </td><td> 296     </td><td> 2872    </td><td> 6214    </td><td> 3342    </td><td>0.4621822</td></tr>\n",
       "\t<tr><td>2003     </td><td> 361     </td><td> 3388    </td><td> 7392    </td><td> 4004    </td><td>0.4583333</td></tr>\n",
       "\t<tr><td>2004     </td><td> 427     </td><td> 3961    </td><td> 8716    </td><td> 4755    </td><td>0.4544516</td></tr>\n",
       "\t<tr><td>2005     </td><td> 507     </td><td> 4939    </td><td>10889    </td><td> 5950    </td><td>0.4535770</td></tr>\n",
       "\t<tr><td>2006     </td><td> 549     </td><td> 5338    </td><td>11734    </td><td> 6396    </td><td>0.4549173</td></tr>\n",
       "\t<tr><td>Total    </td><td>1098     </td><td>10676    </td><td>23468    </td><td>12792    </td><td>0.4549173</td></tr>\n",
       "</tbody>\n",
       "</table>\n"
      ],
      "text/latex": [
       "\\begin{tabular}{r|llllll}\n",
       " Season & Games & Success & Attempts & Fails & Percents\\\\\n",
       "\\hline\n",
       "\t 1999      &   66      &   554     &  1183     &   629     & 0.4683009\\\\\n",
       "\t 2000      &  134      &  1255     &  2693     &  1438     & 0.4660230\\\\\n",
       "\t 2001      &  214      &  2004     &  4290     &  2286     & 0.4671329\\\\\n",
       "\t 2002      &  296      &  2872     &  6214     &  3342     & 0.4621822\\\\\n",
       "\t 2003      &  361      &  3388     &  7392     &  4004     & 0.4583333\\\\\n",
       "\t 2004      &  427      &  3961     &  8716     &  4755     & 0.4544516\\\\\n",
       "\t 2005      &  507      &  4939     & 10889     &  5950     & 0.4535770\\\\\n",
       "\t 2006      &  549      &  5338     & 11734     &  6396     & 0.4549173\\\\\n",
       "\t Total     & 1098      & 10676     & 23468     & 12792     & 0.4549173\\\\\n",
       "\\end{tabular}\n"
      ],
      "text/markdown": [
       "\n",
       "| Season | Games | Success | Attempts | Fails | Percents |\n",
       "|---|---|---|---|---|---|\n",
       "| 1999      |   66      |   554     |  1183     |   629     | 0.4683009 |\n",
       "| 2000      |  134      |  1255     |  2693     |  1438     | 0.4660230 |\n",
       "| 2001      |  214      |  2004     |  4290     |  2286     | 0.4671329 |\n",
       "| 2002      |  296      |  2872     |  6214     |  3342     | 0.4621822 |\n",
       "| 2003      |  361      |  3388     |  7392     |  4004     | 0.4583333 |\n",
       "| 2004      |  427      |  3961     |  8716     |  4755     | 0.4544516 |\n",
       "| 2005      |  507      |  4939     | 10889     |  5950     | 0.4535770 |\n",
       "| 2006      |  549      |  5338     | 11734     |  6396     | 0.4549173 |\n",
       "| Total     | 1098      | 10676     | 23468     | 12792     | 0.4549173 |\n",
       "\n"
      ],
      "text/plain": [
       "  Season Games Success Attempts Fails Percents \n",
       "1 1999     66    554    1183      629 0.4683009\n",
       "2 2000    134   1255    2693     1438 0.4660230\n",
       "3 2001    214   2004    4290     2286 0.4671329\n",
       "4 2002    296   2872    6214     3342 0.4621822\n",
       "5 2003    361   3388    7392     4004 0.4583333\n",
       "6 2004    427   3961    8716     4755 0.4544516\n",
       "7 2005    507   4939   10889     5950 0.4535770\n",
       "8 2006    549   5338   11734     6396 0.4549173\n",
       "9 Total  1098  10676   23468    12792 0.4549173"
      ]
     },
     "metadata": {},
     "output_type": "display_data"
    }
   ],
   "source": [
    "D=data\n",
    "for(i in 2:nrow(data)) {\n",
    "  D$Games[i]=D$Games[i-1]+data$Games[i]\n",
    "  D$Success[i]=D$Success[i-1]+data$Success[i]\n",
    "  D$Attempts[i]=D$Attempts[i-1]+data$Attempts[i]\n",
    "  D$Fails[i]=D$Fails[i-1]+data$Fails[i]\n",
    "  D$Percents[i]=D$Success[i]/D$Attempts[i]\n",
    "}\n",
    "D[1,6] <- D[1,3]/D[1,4]\n",
    "D"
   ]
  },
  {
   "cell_type": "markdown",
   "metadata": {},
   "source": [
    "먼저 각 년도별로 성공, 총 시도횟수, 실패횟수를 누적하여 계산한 데이터는 위와같이 나온다.  \n",
    "베이지안 업데이트를 사용하기 위해 새로운 데이터셋을 생성했기 때문에 새로운 post함수를 만들어 사용하자."
   ]
  },
  {
   "cell_type": "code",
   "execution_count": 17,
   "metadata": {},
   "outputs": [],
   "source": [
    "post_BU <- function(a,b) {\n",
    "  M=numeric(1);V=numeric(1)\n",
    "  for(i in 1:8) {\n",
    "    M[i]=cond_exp(D$Success[i]+a, D$Fails[i]+b)\n",
    "    V[i]=cond_var(D$Success[i]+a, D$Fails[i]+b)\n",
    "  }\n",
    "  R=data.frame(Post_mean=round(M*100,1),\n",
    "               Post_var=round(sqrt(V)*100,1))\n",
    "  return(R)\n",
    "}"
   ]
  },
  {
   "cell_type": "markdown",
   "metadata": {},
   "source": [
    "원 데이터의 마지막 행인 Total은 2006년도 데이터에 단지 2배만 된겄이기 때문에 사용하지 않기로 한다.  "
   ]
  },
  {
   "cell_type": "code",
   "execution_count": 19,
   "metadata": {},
   "outputs": [
    {
     "data": {
      "text/html": [
       "<table>\n",
       "<thead><tr><th scope=col>Ordinal_Post_SD</th><th scope=col>Updated_Post_SD</th></tr></thead>\n",
       "<tbody>\n",
       "\t<tr><td>1.5</td><td>1.5</td></tr>\n",
       "\t<tr><td>1.3</td><td>1.0</td></tr>\n",
       "\t<tr><td>1.2</td><td>0.8</td></tr>\n",
       "\t<tr><td>1.1</td><td>0.6</td></tr>\n",
       "\t<tr><td>1.4</td><td>0.6</td></tr>\n",
       "\t<tr><td>1.4</td><td>0.5</td></tr>\n",
       "\t<tr><td>1.1</td><td>0.5</td></tr>\n",
       "\t<tr><td>1.7</td><td>0.5</td></tr>\n",
       "</tbody>\n",
       "</table>\n"
      ],
      "text/latex": [
       "\\begin{tabular}{ll}\n",
       " Ordinal\\_Post\\_SD & Updated\\_Post\\_SD\\\\\n",
       "\\hline\n",
       "\t 1.5 & 1.5\\\\\n",
       "\t 1.3 & 1.0\\\\\n",
       "\t 1.2 & 0.8\\\\\n",
       "\t 1.1 & 0.6\\\\\n",
       "\t 1.4 & 0.6\\\\\n",
       "\t 1.4 & 0.5\\\\\n",
       "\t 1.1 & 0.5\\\\\n",
       "\t 1.7 & 0.5\\\\\n",
       "\\end{tabular}\n"
      ],
      "text/markdown": [
       "\n",
       "| Ordinal_Post_SD | Updated_Post_SD |\n",
       "|---|---|\n",
       "| 1.5 | 1.5 |\n",
       "| 1.3 | 1.0 |\n",
       "| 1.2 | 0.8 |\n",
       "| 1.1 | 0.6 |\n",
       "| 1.4 | 0.6 |\n",
       "| 1.4 | 0.5 |\n",
       "| 1.1 | 0.5 |\n",
       "| 1.7 | 0.5 |\n",
       "\n"
      ],
      "text/plain": [
       "     Ordinal_Post_SD Updated_Post_SD\n",
       "[1,] 1.5             1.5            \n",
       "[2,] 1.3             1.0            \n",
       "[3,] 1.2             0.8            \n",
       "[4,] 1.1             0.6            \n",
       "[5,] 1.4             0.6            \n",
       "[6,] 1.4             0.5            \n",
       "[7,] 1.1             0.5            \n",
       "[8,] 1.7             0.5            "
      ]
     },
     "metadata": {},
     "output_type": "display_data"
    }
   ],
   "source": [
    "R1 <- cbind(post(0,0)[1:8,]$Post_var, post_BU(0,0)$Post_var)\n",
    "colnames(R1) <- c(\"Ordinal_Post_SD\",\"Updated_Post_SD\")\n",
    "R1"
   ]
  },
  {
   "cell_type": "markdown",
   "metadata": {},
   "source": [
    "R1의 Original_Post_SD는 베이지안 업데이트를 하지 않고 단지 사전분포를 가정한 결과를 보여주며  \n",
    "Updated_Post_SD는 베이지안 업데이트를 통해 구한 사후분포의 표준편차를 보여준다.  \n",
    "\n",
    "두 결과를 비교해 보면 업데이트를 사용한 결과의 분산이 훨씬 작게 나타나는 것을 볼 수 있다.  \n",
    "Total행을 제외했기 때문에 총 8년간의 결과만 보여주고 있다."
   ]
  },
  {
   "cell_type": "markdown",
   "metadata": {},
   "source": [
    "## 4) Estimate p,o and theta\n",
    "Matropolis-Hastings algorithm을 사용해 p,o 그리고 theta에 대해 샘플링을 해보도록 한다.  \n",
    "$y$ ~ $Bin(n,p)$,  $o = p/(1-p)$,  $\\theta$ = $logo$"
   ]
  },
  {
   "cell_type": "markdown",
   "metadata": {},
   "source": [
    "### (1) Inference for $\\theta$\n",
    "$\\theta,  o,  p$ 에 대해 MH알고리즘을 사용할 때 2006/2007년도의 데이터만 사용하기로 한다.  \n",
    "Random-walk Metropolis를 사용해 사전분포를 정규분포로 주고 적절한 평균과 분산을 주기위해 해당 년도의 로그오즈비를 평균으로 가지고  \n",
    "분산은 0.1,0.2,0.35,0.85 중 acceptance rate이 25~45%정도되는 분산을 선택하여 사용하자"
   ]
  },
  {
   "cell_type": "code",
   "execution_count": 21,
   "metadata": {},
   "outputs": [],
   "source": [
    "##likelihood function\n",
    "d <- data[8,]\n",
    "mu=log((d$Percents/100) / (1-d$Percents/100))\n",
    "mu=round(mu,2)\n",
    "sig=c(0.1,0.2,0.35,0.85)\n",
    "likelihood=function(theta) {\n",
    "  exp(theta*d$Success) / ((1+exp(theta))^d$Attempts) *exp(-1/2*((theta-mu)/sig)^2)\n",
    "}"
   ]
  },
  {
   "cell_type": "markdown",
   "metadata": {},
   "source": [
    "$\\theta$에 대한 Likelihood에 Prior를 곱한 값을 구하는 함수를 생성하여 MH에서 새로 생성된 샘플을 사용할 것인지 선택할 때 사용한다."
   ]
  },
  {
   "cell_type": "code",
   "execution_count": null,
   "metadata": {},
   "outputs": [],
   "source": []
  }
 ],
 "metadata": {
  "kernelspec": {
   "display_name": "R",
   "language": "R",
   "name": "ir"
  },
  "language_info": {
   "codemirror_mode": "r",
   "file_extension": ".r",
   "mimetype": "text/x-r-source",
   "name": "R",
   "pygments_lexer": "r",
   "version": "3.6.1"
  }
 },
 "nbformat": 4,
 "nbformat_minor": 2
}
